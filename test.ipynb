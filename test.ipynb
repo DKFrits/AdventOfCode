{
 "cells": [
  {
   "cell_type": "code",
   "execution_count": 25,
   "metadata": {},
   "outputs": [
    {
     "name": "stdout",
     "output_type": "stream",
     "text": [
      "000\n",
      "10\n",
      "\n"
     ]
    }
   ],
   "source": [
    "hex = 'D2FE28'\n",
    "\n",
    "binary = str(bin(int(hex, 16))[2:].zfill(4))\n",
    "\n",
    "finished = False\n",
    "\n",
    "sum_versions = 0\n",
    "\n",
    "while not finished:\n",
    "    version_str = binary[0:3]\n",
    "    version_decimal = int(version_str, 2)\n",
    "    # print(version_str)\n",
    "    # print(version_decimal)\n",
    "    packet_type_str = binary[3:6]\n",
    "    packet_type_decimal = int(packet_type_str, 2)\n",
    "    # print(packet_type_str)\n",
    "    # print(packet_type_decimal)\n",
    "\n",
    "    skip = 6\n",
    "    # if literal value\n",
    "    if (packet_type_decimal == 4):\n",
    "        skip += 15\n",
    "    \n",
    "    binary = binary.split(binary[0:skip])[1]\n",
    "    print(binary)\n",
    "\n",
    "    while binary[0] == '0':\n",
    "        binary = binary[1:]\n",
    "        if len(binary) == 0:\n",
    "            finished = True\n",
    "            break\n",
    "\n",
    "print(int('01010', 2))\n",
    "\n",
    "print(binary)"
   ]
  },
  {
   "cell_type": "code",
   "execution_count": 26,
   "metadata": {},
   "outputs": [
    {
     "name": "stdout",
     "output_type": "stream",
     "text": [
      "923\n",
      "258888628940\n"
     ]
    }
   ],
   "source": [
    "from functools import reduce\n",
    "\n",
    "def parse_bin(string, values, val = '', op = True):\n",
    "    v, t, string = int(string[:3], 2), int(string[3:6], 2), string[6:]\n",
    "    versions.append(v)\n",
    "    if t == 4:\n",
    "        while op != '0':\n",
    "            op, val, string = string[0], val + string[1:5], string[5:]\n",
    "        return string, values + [int(val, 2)]\n",
    "    length = lengths[string[0]](string)\n",
    "    if string[0] == '0':\n",
    "        copy, string = string[16 : 16 + length], string[16 + length:]\n",
    "        while len(copy) > 5:\n",
    "            copy, v = parse_bin(copy, [])\n",
    "            values += v\n",
    "    else:\n",
    "        string = string[12:]\n",
    "        for e in range(length):\n",
    "            string, v = parse_bin(string, [])\n",
    "            values += v\n",
    "    return string, [types[t](values)]\n",
    "\n",
    "with open(\"input\", 'r') as file:\n",
    "    raw = file.read()\n",
    "    data = bin(int(raw, 16))[2:].zfill(len(raw) * 4)\n",
    "    versions, values = [], []\n",
    "    lengths = {'0': lambda x: int(x[1:16], 2), '1': lambda x: int(x[1:12], 2)}\n",
    "    types = {0:lambda values:sum(values),\n",
    "             1:lambda values:reduce(lambda x,y: x*y, values),\n",
    "             2:lambda values:min(values),\n",
    "             3:lambda values:max(values),\n",
    "             5:lambda values:int(values[0] > values[1]),\n",
    "             6:lambda values:int(values[0] < values[1]),\n",
    "             7:lambda values:int(values[0] == values[1])}\n",
    "    while len(data) > 11:\n",
    "        data, values = parse_bin(data, [])\n",
    "    print(sum(versions))\n",
    "    print(values[0])"
   ]
  }
 ],
 "metadata": {
  "interpreter": {
   "hash": "828d574c83572c6267239a9f8c3db98dcb9146b4c6cfa1ace19789f20591a2a6"
  },
  "kernelspec": {
   "display_name": "Python 3.9.9 64-bit ('venv': venv)",
   "language": "python",
   "name": "python3"
  },
  "language_info": {
   "codemirror_mode": {
    "name": "ipython",
    "version": 3
   },
   "file_extension": ".py",
   "mimetype": "text/x-python",
   "name": "python",
   "nbconvert_exporter": "python",
   "pygments_lexer": "ipython3",
   "version": "3.9.9"
  },
  "orig_nbformat": 4
 },
 "nbformat": 4,
 "nbformat_minor": 2
}
